{
 "cells": [
  {
   "cell_type": "code",
   "execution_count": 7,
   "metadata": {},
   "outputs": [],
   "source": [
    "from tkinter import *\n",
    "from tkinter.ttk import *\n",
    "import matplotlib.pyplot as plt\n",
    "import urllib.request\n",
    "from sklearn.model_selection import train_test_split\n",
    "import numpy as np\n",
    "import urllib, ast\n",
    "import math\n",
    "import requests\n",
    "from matplotlib.figure import Figure\n",
    "from matplotlib.backends.backend_tkagg import (FigureCanvasTkAgg,NavigationToolbar2Tk)"
   ]
  },
  {
   "cell_type": "code",
   "execution_count": 8,
   "metadata": {},
   "outputs": [],
   "source": [
    "def cal():\n",
    "    url = \"https://codeforces.com/api/contest.ratingChanges?contestId=\"+str(n1.get())\n",
    "    try:\n",
    "        file = urllib.request.urlopen(url)\n",
    "        old = [] #stores old ratings\n",
    "        new = [] #stores new ratings\n",
    "        for line in file:\n",
    "            dic = line.decode(\"utf-8\")\n",
    "            dic = ast.literal_eval(dic)\n",
    "            l = dic.get(\"result\")\n",
    "            for i in l:\n",
    "                o = i.get(\"oldRating\")\n",
    "                old.append(o)\n",
    "                n = i.get('newRating')\n",
    "                new.append(n)\n",
    "        train_x, valid_x, train_y, valid_y = train_test_split(old, new, test_size=0.3, random_state = 42)\n",
    "        # Testing for best polynomial function\n",
    "        per = []\n",
    "        for i in range(1,20):\n",
    "            weights = np.polyfit(train_x, train_y, i)\n",
    "            # Generating model with the given weights\n",
    "            model = np.poly1d(weights)\n",
    "            # Prediction on validation set\n",
    "            pred = model(valid_x)\n",
    "            perc = 0\n",
    "            for i in range(len(pred)):\n",
    "                perc+=abs(pred[i]-valid_y[i])/valid_y[i]\n",
    "            per.append(perc/len(pred))\n",
    "        fig = Figure(figsize = (5, 5),dpi = 100)\n",
    "        plot1 = fig.add_subplot(111)\n",
    "        weights1 = np.polyfit(train_x, train_y, 1+per.index(min(per)))\n",
    "        model1 = np.poly1d(weights1)\n",
    "        if int(n2.get()) >=min(old) and int(n2.get())<= max(old):\n",
    "            myText.set(math.ceil(model1(int(n2.get()))))\n",
    "        else:\n",
    "            myText.set(int(n2.get()))\n",
    "        pred1 = model1(valid_x)\n",
    "        xp = np.linspace(min(valid_x),max(valid_x))\n",
    "        pred_plot = model1(xp)\n",
    "        plot1.scatter(valid_x, valid_y, facecolor='Red', edgecolor='k', alpha=0.1)\n",
    "        plot1.plot(xp, pred_plot)\n",
    "        canvas = FigureCanvasTkAgg(fig,master = window)\n",
    "        canvas.draw()\n",
    "        # placing the canvas on the Tkinter window\n",
    "        canvas.get_tk_widget().grid(row=5,column=1, ipadx=20, ipady=10)\n",
    "\n",
    "        # creating the Matplotlib toolbar\n",
    "        toolbar = NavigationToolbar2Tk(canvas,window)\n",
    "        toolbar.update()\n",
    "\n",
    "        # placing the toolbar on the Tkinter window\n",
    "        canvas.get_tk_widget().pack()\n",
    "    except urllib.error.HTTPError as e:\n",
    "        x = \"HTTP Error \"+str(e.code)\n",
    "        myText.set(x)"
   ]
  },
  {
   "cell_type": "code",
   "execution_count": 9,
   "metadata": {},
   "outputs": [
    {
     "name": "stderr",
     "output_type": "stream",
     "text": [
      "/usr/lib/python3.8/tkinter/__init__.py:1892: RankWarning: Polyfit may be poorly conditioned\n",
      "  return self.func(*args)\n",
      "/usr/lib/python3.8/tkinter/__init__.py:1892: RankWarning: Polyfit may be poorly conditioned\n",
      "  return self.func(*args)\n",
      "/usr/lib/python3.8/tkinter/__init__.py:1892: RankWarning: Polyfit may be poorly conditioned\n",
      "  return self.func(*args)\n",
      "/usr/lib/python3.8/tkinter/__init__.py:1892: RankWarning: Polyfit may be poorly conditioned\n",
      "  return self.func(*args)\n",
      "/usr/lib/python3.8/tkinter/__init__.py:1892: RankWarning: Polyfit may be poorly conditioned\n",
      "  return self.func(*args)\n",
      "/usr/lib/python3.8/tkinter/__init__.py:1892: RankWarning: Polyfit may be poorly conditioned\n",
      "  return self.func(*args)\n",
      "Exception in Tkinter callback\n",
      "Traceback (most recent call last):\n",
      "  File \"/usr/lib/python3.8/tkinter/__init__.py\", line 1892, in __call__\n",
      "    return self.func(*args)\n",
      "  File \"<ipython-input-8-fb69750910ec>\", line 48, in cal\n",
      "    toolbar = NavigationToolbar2Tk(canvas,window)\n",
      "  File \"/home/soumyadeep/.local/lib/python3.8/site-packages/matplotlib/backends/_backend_tk.py\", line 535, in __init__\n",
      "    self.pack(side=tk.BOTTOM, fill=tk.X)\n",
      "  File \"/usr/lib/python3.8/tkinter/__init__.py\", line 2396, in pack_configure\n",
      "    self.tk.call(\n",
      "_tkinter.TclError: cannot use geometry manager pack inside . which already has slaves managed by grid\n"
     ]
    }
   ],
   "source": [
    "window = Tk()\n",
    "myText=StringVar()\n",
    "style = Style()\n",
    "style.configure('W.TButton', font = ('Helvetica', 10, 'bold'), foreground = 'blue', background='#fff',borderwidth=18)\n",
    "window.geometry(\"500x500\")\n",
    "window.title(\" CF Rating Predictor\")\n",
    "Label(master=window, text=\"Contest Code\",font=('Helvetica', 10), foreground = '#000000', background='gold').grid(row=0, sticky=W,padx=7)\n",
    "Label(master=window, text=\"Old Rating\",font=('Helvetica', 10), foreground = '#000000', background='gold').grid(row=1, sticky=W, ipadx=9,padx=7)\n",
    "Label(master=window, text=\"New Rating:\",font=('Helvetica', 10), foreground = '#000000', background='gold').grid(row=2, sticky=W,ipadx=5,padx=7)\n",
    "result=Label(master=window, text=\"\", textvariable=myText,font=('Helvetica', 12,'bold','underline'), foreground = 'red').grid(row=2, column=1)\n",
    "n1 = Entry(window)\n",
    "n2 = Entry(window)\n",
    "n1.grid(row=0, column=1, pady = 5)\n",
    "n2.grid(row=1, column=1, pady = 5)\n",
    "b = Button(master=window, text=\"Ready\", command = cal,style = 'W.TButton')\n",
    "b.grid(row=3, column=2,columnspan=2, rowspan=2,sticky=W+E+N+S, padx=1, pady=1)\n",
    "mainloop()"
   ]
  },
  {
   "cell_type": "code",
   "execution_count": null,
   "metadata": {},
   "outputs": [],
   "source": [
    "\n"
   ]
  },
  {
   "cell_type": "code",
   "execution_count": null,
   "metadata": {},
   "outputs": [],
   "source": []
  },
  {
   "cell_type": "code",
   "execution_count": null,
   "metadata": {},
   "outputs": [],
   "source": []
  }
 ],
 "metadata": {
  "kernelspec": {
   "display_name": "Python 3",
   "language": "python",
   "name": "python3"
  },
  "language_info": {
   "codemirror_mode": {
    "name": "ipython",
    "version": 3
   },
   "file_extension": ".py",
   "mimetype": "text/x-python",
   "name": "python",
   "nbconvert_exporter": "python",
   "pygments_lexer": "ipython3",
   "version": "3.8.5"
  }
 },
 "nbformat": 4,
 "nbformat_minor": 5
}
